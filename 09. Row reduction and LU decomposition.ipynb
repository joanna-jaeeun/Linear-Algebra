{
 "cells": [
  {
   "cell_type": "markdown",
   "id": "997b7f9b",
   "metadata": {},
   "source": [
    "# Row reduction and LU decomposition"
   ]
  },
  {
   "cell_type": "code",
   "execution_count": 2,
   "id": "67974523",
   "metadata": {},
   "outputs": [],
   "source": [
    "import numpy as np\n",
    "import matplotlib.pyplot as plt\n",
    "\n",
    "# sympy library for RREF\n",
    "import sympy as sym\n",
    "\n",
    "# scipy for LU\n",
    "import scipy.linalg\n",
    "\n",
    "\n",
    "# used to create non-regular subplots\n",
    "import matplotlib.gridspec as gridspec\n",
    "\n",
    "\n",
    "# NOTE: these lines define global figure properties used for publication.\n",
    "import matplotlib_inline.backend_inline\n",
    "matplotlib_inline.backend_inline.set_matplotlib_formats('svg') # display figures in vector format\n",
    "plt.rcParams.update({'font.size':14}) # set global font size"
   ]
  },
  {
   "cell_type": "markdown",
   "id": "f03abfbe",
   "metadata": {},
   "source": [
    "## 9.1 System of equations"
   ]
  },
  {
   "cell_type": "markdown",
   "id": "9e1c34c5",
   "metadata": {},
   "source": [
    "### 9.1.1 Convert system of equations into matrix"
   ]
  },
  {
   "cell_type": "markdown",
   "id": "a208d17d",
   "metadata": {},
   "source": [
    "### 9.1.2. Matrix equations"
   ]
  },
  {
   "cell_type": "code",
   "execution_count": 3,
   "id": "9820bafd",
   "metadata": {},
   "outputs": [
    {
     "name": "stdout",
     "output_type": "stream",
     "text": [
      "res1:\n",
      " \n",
      "[[ 0.  0. -0.  0.]\n",
      " [ 0.  0.  0.  0.]\n",
      " [ 0.  0. -0.  0.]\n",
      " [-0. -0.  0. -0.]]\n",
      " \n",
      "res2:\n",
      " \n",
      "[[-0.74760298  2.08506536  3.53037833  1.73187477]\n",
      " [-2.54403187  1.51457142  2.83150255 -0.94825605]\n",
      " [ 1.82495167 -0.33276905  1.3356465   4.47916679]\n",
      " [-0.0735937   2.26461382  0.18267889 -2.10261494]]\n"
     ]
    }
   ],
   "source": [
    "# generate some matrices\n",
    "A = np.random.randn(4,4)\n",
    "B = np.random.randn(4,4)\n",
    "\n",
    "# solve for X\n",
    "# 1) inv(A)@A@X = inv(A)@B\n",
    "# 2) inv(A)@A@X = B@inv(A)\n",
    "\n",
    "X1 = np.linalg.inv(A) @ B\n",
    "X2 = B @ np.linalg.inv(A)\n",
    "\n",
    "# residual (should be zeros matrix)\n",
    "res1 = A@X1 - B\n",
    "res2 = A@X2 - B\n",
    "\n",
    "# which is correct?\n",
    "print('res1:'), print(' ')\n",
    "print( np.round(res1,10) ), print(' ')\n",
    "\n",
    "print('res2:'), print(' ')\n",
    "print( np.round(res2,10) )\n"
   ]
  },
  {
   "cell_type": "markdown",
   "id": "1d468675",
   "metadata": {},
   "source": [
    "## 9.2 Row reduction \n",
    "- 행렬의 행에 스칼라 곱셈과 덧셈이라는 두가지 연산을 반복적으로 적용하는 것\n",
    "- 하나의 연립방정식 내에서 하나의 방정식을 다른 방정식에 더하는 것과 동일한 원리를 사용한다\n",
    "- 행축소의 목표는 밀집행렬(dense matrix)을 상삼각 행렬로 변환하는것이다"
   ]
  },
  {
   "cell_type": "markdown",
   "id": "cd3a0abe",
   "metadata": {},
   "source": [
    "### 9.2.1. Gaussian elimination \n",
    "1) 계수 행렬을 상수 벡터로 증강하고\n",
    "2) 행을 사다리꼴 형태로 축소한 다음\n",
    "3) 역치환(back substitution)을 사용하여 각 변수를 차례로 푼다"
   ]
  },
  {
   "cell_type": "markdown",
   "id": "6e642e56",
   "metadata": {},
   "source": [
    "### 9.2.2 Gauss-Jordan Elimination(RREF)"
   ]
  },
  {
   "cell_type": "code",
   "execution_count": 6,
   "id": "a3f5c010",
   "metadata": {},
   "outputs": [
    {
     "name": "stdout",
     "output_type": "stream",
     "text": [
      "Matrix([[1.00000000000000, 1.00000000000000, 4.00000000000000], [-0.500000000000000, 1.00000000000000, 2.00000000000000]])\n"
     ]
    },
    {
     "data": {
      "text/latex": [
       "$\\displaystyle \\left[\\begin{matrix}1 & 0 & 1.33333333333333\\\\0 & 1 & 2.66666666666667\\end{matrix}\\right]$"
      ],
      "text/plain": [
       "Matrix([\n",
       "[1, 0, 1.33333333333333],\n",
       "[0, 1, 2.66666666666667]])"
      ]
     },
     "execution_count": 6,
     "metadata": {},
     "output_type": "execute_result"
    }
   ],
   "source": [
    "# The augmented matrix\n",
    "M = np.array( [[ 1, 1, 4], [-1/2, 1, 2] ])\n",
    "\n",
    "# Converted into a sympy matrix\n",
    "symMat = sym.Matrix(M)\n",
    "print((symMat))\n",
    "\n",
    "# RREF\n",
    "symMat.rref()[0]"
   ]
  },
  {
   "cell_type": "markdown",
   "id": "ac882f76",
   "metadata": {},
   "source": [
    "### 9.2.3. Inverse matrix calcuation by Gauss-Jordan Elimination\n",
    "- 연립방정식을 푸는 선형 변환에 대한 설명과 일치한다\n",
    "- 가우스 조던 소거법을 이용해 역행렬을 계산하는 것이 완전 역행렬 알고리즘 보다 수치적으로 더 안정적일 수 있지만,\n",
    "특이 행렬에 가깝거나 조건수가 높은 행렬이라면 사용되는 알고리즘에 관계없이 역을 구하기 어렵다"
   ]
  },
  {
   "cell_type": "markdown",
   "id": "985470a7",
   "metadata": {},
   "source": [
    "## 9.3 LU decompositition\n",
    "- 두개의 삼각 행렬의 곱으로 분해하는 것(lower, upper)"
   ]
  },
  {
   "cell_type": "code",
   "execution_count": 10,
   "id": "fda05d99",
   "metadata": {},
   "outputs": [
    {
     "name": "stdout",
     "output_type": "stream",
     "text": [
      "L: \n",
      "[[1.  0.  0. ]\n",
      " [0.5 1.  0. ]\n",
      " [1.  1.  1. ]]\n",
      " \n",
      "U: \n",
      "[[ 2.  2.  4.]\n",
      " [ 0. -1.  1.]\n",
      " [ 0.  0. -3.]]\n",
      " \n",
      "A - LU: \n",
      "[[0. 0. 0.]\n",
      " [0. 0. 0.]\n",
      " [0. 0. 0.]]\n"
     ]
    }
   ],
   "source": [
    "# simple example with integers\n",
    "\n",
    "# a matrix\n",
    "A = np.array( [[2, 2, 4], [1, 0, 3], [2, 1, 2]])\n",
    "\n",
    "# its LU decomposition via scipy (please ignore the first output for now)\n",
    "_, L, U = scipy.linalg.lu(A)\n",
    "\n",
    "print('L: ')\n",
    "print(L), print(' ')\n",
    "\n",
    "print('U: ')\n",
    "print(U), print(' ')\n",
    "\n",
    "print('A - LU: ')\n",
    "print(A - L@U) # should be zeros"
   ]
  },
  {
   "cell_type": "markdown",
   "id": "298938ec",
   "metadata": {},
   "source": [
    "### 9.3.1 Using exchange using permutation matrix 치환 행렬\n",
    "- 행 교환은 행 축소 기법중에 하나로, 치환 행렬을 통해서 구현할 수 있음\n",
    "- 치환 행렬은 모든 원소가 0이거나 1이고, 행은 한번만 교한되므로 정확히 하나의 0이 아닌 원소만 존재하므로 inverse p = transpose p"
   ]
  },
  {
   "cell_type": "markdown",
   "id": "a2336163",
   "metadata": {},
   "source": []
  }
 ],
 "metadata": {
  "kernelspec": {
   "display_name": "ds_study",
   "language": "python",
   "name": "python3"
  },
  "language_info": {
   "codemirror_mode": {
    "name": "ipython",
    "version": 3
   },
   "file_extension": ".py",
   "mimetype": "text/x-python",
   "name": "python",
   "nbconvert_exporter": "python",
   "pygments_lexer": "ipython3",
   "version": "3.12.7"
  }
 },
 "nbformat": 4,
 "nbformat_minor": 5
}
