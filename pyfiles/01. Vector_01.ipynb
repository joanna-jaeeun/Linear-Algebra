{
 "cells": [
  {
   "cell_type": "markdown",
   "id": "3d90f0e5",
   "metadata": {},
   "source": [
    "# Vector and basic calculation of vector"
   ]
  },
  {
   "cell_type": "code",
   "execution_count": 1,
   "id": "94ae697d",
   "metadata": {},
   "outputs": [],
   "source": [
    "# import libraries\n",
    "import numpy as np\n",
    "import matplotlib.pyplot as plt\n",
    "\n",
    "\n",
    "# NOTE: these lines define global figure properties used for publication.\n",
    "import matplotlib_inline.backend_inline\n",
    "matplotlib_inline.backend_inline.set_matplotlib_formats('svg') # display figures in vector format\n",
    "plt.rcParams.update({'font.size':14}) # set global font size"
   ]
  },
  {
   "cell_type": "markdown",
   "id": "b0e32770",
   "metadata": {},
   "source": [
    "## 1.1 Creating vectors"
   ]
  },
  {
   "cell_type": "code",
   "execution_count": 10,
   "id": "4b20df87",
   "metadata": {},
   "outputs": [
    {
     "data": {
      "text/plain": [
       "(array([[1, 2, 3]]),\n",
       " array([[1],\n",
       "        [2],\n",
       "        [3]]))"
      ]
     },
     "execution_count": 10,
     "metadata": {},
     "output_type": "execute_result"
    }
   ],
   "source": [
    "asList = [1,2,3]\n",
    "asArray = np.array([1,2,3])\n",
    "\n",
    "rowVec = np.array([ [1, 2, 3]   ]) #row     #inner brakect set means rows\n",
    "colVec = np.array([[1], [2], [3]]) #column\n",
    "rowVec, colVec"
   ]
  },
  {
   "cell_type": "code",
   "execution_count": 12,
   "id": "b80c8b6f",
   "metadata": {},
   "outputs": [
    {
     "data": {
      "text/plain": [
       "array([[1, 2],\n",
       "       [2, 3],\n",
       "       [3, 4]])"
      ]
     },
     "execution_count": 12,
     "metadata": {},
     "output_type": "execute_result"
    }
   ],
   "source": [
    "np.array([[1, 2], [2,3 ], [3,4]])"
   ]
  },
  {
   "cell_type": "code",
   "execution_count": null,
   "id": "61b113f7",
   "metadata": {},
   "outputs": [
    {
     "name": "stdout",
     "output_type": "stream",
     "text": [
      "asList:  (3,)\n",
      "asArray: (3,)\n",
      "rowVec : (1, 3)\n",
      "colwVec : (3, 1)\n"
     ]
    }
   ],
   "source": [
    "# Check the sizes of the variables\n",
    "print(f'asList:  {np.shape(asList)}') \n",
    "print(f'asArray: {asArray.shape}') \n",
    "print(f\"rowVec : {rowVec.shape}\")\n",
    "print(f\"colwVec : {colVec.shape}\")"
   ]
  },
  {
   "cell_type": "markdown",
   "id": "e304eda6",
   "metadata": {},
   "source": [
    "## 1.2 Vector operations "
   ]
  },
  {
   "cell_type": "markdown",
   "id": "7711474d",
   "metadata": {},
   "source": [
    "### 1.2.1 Adding vector\n",
    "- Two vectors can be added only when they have the same dimension and direction."
   ]
  },
  {
   "cell_type": "markdown",
   "id": "5efbda18",
   "metadata": {},
   "source": [
    "### 1.2.3 Vector-scalar multiplication"
   ]
  },
  {
   "cell_type": "code",
   "execution_count": 13,
   "id": "b59f531c",
   "metadata": {},
   "outputs": [
    {
     "name": "stdout",
     "output_type": "stream",
     "text": [
      "[3, 4, 5, 3, 4, 5]\n",
      "[ 6  8 10]\n"
     ]
    }
   ],
   "source": [
    "s = 2\n",
    "a = [3, 4, 5] # list\n",
    "b = np.array(a)\n",
    "print(a*s)  # Repetition of list \n",
    "print(b*s)  # Vector-scalar ⭐️"
   ]
  },
  {
   "cell_type": "markdown",
   "id": "5187ed22",
   "metadata": {},
   "source": [
    "### 1.2.5. Transpose"
   ]
  },
  {
   "cell_type": "code",
   "execution_count": null,
   "id": "3ba7974b",
   "metadata": {},
   "outputs": [],
   "source": [
    "# Row vector\n",
    "r = np.array([ [1,2,3] ])\n",
    "\n",
    "# orientationless array\n",
    "l = np.array([1,2,3])"
   ]
  },
  {
   "cell_type": "code",
   "execution_count": 18,
   "id": "77bebd1e",
   "metadata": {},
   "outputs": [
    {
     "name": "stdout",
     "output_type": "stream",
     "text": [
      "[[1 2 3]]\n",
      " \n",
      "[[1]\n",
      " [2]\n",
      " [3]]\n",
      " \n",
      "[[1 2 3]]\n"
     ]
    }
   ],
   "source": [
    "# print out the vector, its transpose, and its double-transpose\n",
    "print(r), print(' ')\n",
    "\n",
    "# Transpose the row vector\n",
    "print(r.T), print(' ')\n",
    "\n",
    "# double-transpose\n",
    "print(r.T.T)\n",
    "     "
   ]
  },
  {
   "cell_type": "code",
   "execution_count": 19,
   "id": "5aca4773",
   "metadata": {},
   "outputs": [
    {
     "name": "stdout",
     "output_type": "stream",
     "text": [
      "[1 2 3]\n",
      " \n",
      "[1 2 3]\n",
      " \n",
      "[1 2 3]\n"
     ]
    }
   ],
   "source": [
    "# Same for the orientationless array\n",
    "print(l), print(' ')\n",
    "print(l.T), print(' ')\n",
    "print(l.T.T)"
   ]
  },
  {
   "cell_type": "markdown",
   "id": "409178e8",
   "metadata": {},
   "source": [
    "### 1.2.6 Broadcasting on Python"
   ]
  },
  {
   "cell_type": "code",
   "execution_count": 22,
   "id": "408150d9",
   "metadata": {},
   "outputs": [
    {
     "data": {
      "text/plain": [
       "array([[11, 21],\n",
       "       [12, 22],\n",
       "       [13, 23]])"
      ]
     },
     "execution_count": 22,
     "metadata": {},
     "output_type": "execute_result"
    }
   ],
   "source": [
    "v = np.array([[ 1,2,3]]).T\n",
    "w = np.array([[ 10, 20 ]])\n",
    "v+w "
   ]
  },
  {
   "cell_type": "code",
   "execution_count": 24,
   "id": "105a841c",
   "metadata": {},
   "outputs": [
    {
     "data": {
      "text/plain": [
       "array([[1],\n",
       "       [2],\n",
       "       [3]])"
      ]
     },
     "execution_count": 24,
     "metadata": {},
     "output_type": "execute_result"
    }
   ],
   "source": [
    "np.array([[ 1,2,3]]).T"
   ]
  },
  {
   "cell_type": "markdown",
   "id": "4668c299",
   "metadata": {},
   "source": [
    "## 1.3 Magnitude of a vector(norm) and unit vector"
   ]
  },
  {
   "cell_type": "code",
   "execution_count": 27,
   "id": "8648166a",
   "metadata": {},
   "outputs": [
    {
     "data": {
      "text/plain": [
       "(6, 14.422205101855956)"
      ]
     },
     "execution_count": 27,
     "metadata": {},
     "output_type": "execute_result"
    }
   ],
   "source": [
    "v = np.array([1,2,3,7,8,9])\n",
    "v_dim = len(v) # dimention\n",
    "v_mag = np.linalg.norm(v) #norm\n",
    "v_dim, v_mag"
   ]
  },
  {
   "cell_type": "markdown",
   "id": "03190bc5",
   "metadata": {},
   "source": [
    "## 1.4 Vector-dot product\n",
    "- 하나의 숫자로 두 벡터 사이의 관계를 나타낸다\n",
    "- 두 벡터에서 대응되는 원소끼리 곱한 다음 모든 결과를 더한다\n",
    "- 동일한 차원의 두 벡터에서만 성립한다\n",
    "\n",
    "----------------------------------------------------------\n",
    "\n",
    "- 내적은 두 벡터 사이의 유사성(similarity) 또는 매핑(mapping)의 척도로 해석"
   ]
  },
  {
   "cell_type": "code",
   "execution_count": 28,
   "id": "c68b336e",
   "metadata": {},
   "outputs": [
    {
     "data": {
      "text/plain": [
       "70"
      ]
     },
     "execution_count": 28,
     "metadata": {},
     "output_type": "execute_result"
    }
   ],
   "source": [
    "v = np.array([1, 2, 3, 4])\n",
    "w = np.array([5, 6, 7, 8])\n",
    "np.dot(v,w)"
   ]
  },
  {
   "cell_type": "code",
   "execution_count": 29,
   "id": "dff1f8b9",
   "metadata": {},
   "outputs": [
    {
     "data": {
      "text/plain": [
       "700"
      ]
     },
     "execution_count": 29,
     "metadata": {},
     "output_type": "execute_result"
    }
   ],
   "source": [
    "s = 10\n",
    "np.dot(s*v, w)"
   ]
  },
  {
   "cell_type": "markdown",
   "id": "5a5aa9b0",
   "metadata": {},
   "source": [
    "### 1.4.1 The dot product is distributive"
   ]
  },
  {
   "cell_type": "code",
   "execution_count": 30,
   "id": "e3e4d477",
   "metadata": {},
   "outputs": [
    {
     "data": {
      "text/plain": [
       "(110, 110)"
      ]
     },
     "execution_count": 30,
     "metadata": {},
     "output_type": "execute_result"
    }
   ],
   "source": [
    "# just some random vectors...\n",
    "v = np.array([ 0,1,2 ])\n",
    "w = np.array([ 3,5,8 ])\n",
    "u = np.array([ 13,21,34 ])\n",
    "\n",
    "\n",
    "# two ways to compute\n",
    "res1 = np.dot( v, w+u )\n",
    "res2 = np.dot( v, w) + np.dot(v, u)\n",
    "\n",
    "res1, res2"
   ]
  },
  {
   "cell_type": "code",
   "execution_count": null,
   "id": "8e1e3c90",
   "metadata": {},
   "outputs": [],
   "source": []
  }
 ],
 "metadata": {
  "kernelspec": {
   "display_name": "ds_study",
   "language": "python",
   "name": "python3"
  },
  "language_info": {
   "codemirror_mode": {
    "name": "ipython",
    "version": 3
   },
   "file_extension": ".py",
   "mimetype": "text/x-python",
   "name": "python",
   "nbconvert_exporter": "python",
   "pygments_lexer": "ipython3",
   "version": "3.12.7"
  }
 },
 "nbformat": 4,
 "nbformat_minor": 5
}
