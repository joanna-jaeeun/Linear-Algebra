{
 "cells": [
  {
   "cell_type": "markdown",
   "id": "0e1802ce",
   "metadata": {},
   "source": [
    "# Vector Applications - Vector in data analysis"
   ]
  },
  {
   "cell_type": "markdown",
   "id": "dd4bbdf5",
   "metadata": {},
   "source": [
    "Methods to evaluate the similarity between two variables\n",
    "1. Correlation\n",
    "2. Cosine similarity\n",
    "\n",
    "These metrics reflect the linear relationship between two variables :\n",
    "They are based on inner products, and inner product s a linear operation."
   ]
  },
  {
   "cell_type": "code",
   "execution_count": null,
   "id": "ec94bd75",
   "metadata": {
    "vscode": {
     "languageId": "plaintext"
    }
   },
   "outputs": [],
   "source": []
  },
  {
   "cell_type": "markdown",
   "id": "617f6079",
   "metadata": {},
   "source": []
  }
 ],
 "metadata": {
  "language_info": {
   "name": "python"
  }
 },
 "nbformat": 4,
 "nbformat_minor": 5
}
